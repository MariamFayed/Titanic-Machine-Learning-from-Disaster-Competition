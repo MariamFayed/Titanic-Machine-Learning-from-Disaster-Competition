{
 "cells": [
  {
   "cell_type": "code",
   "execution_count": 1,
   "id": "searching-french",
   "metadata": {
    "_cell_guid": "b1076dfc-b9ad-4769-8c92-a6c4dae69d19",
    "_uuid": "8f2839f25d086af736a60e9eeb907d3b93b6e0e5",
    "execution": {
     "iopub.execute_input": "2021-06-11T21:35:22.415431Z",
     "iopub.status.busy": "2021-06-11T21:35:22.413611Z",
     "iopub.status.idle": "2021-06-11T21:35:22.429463Z",
     "shell.execute_reply": "2021-06-11T21:35:22.428851Z",
     "shell.execute_reply.started": "2021-06-11T19:48:13.940613Z"
    },
    "papermill": {
     "duration": 0.055823,
     "end_time": "2021-06-11T21:35:22.429665",
     "exception": false,
     "start_time": "2021-06-11T21:35:22.373842",
     "status": "completed"
    },
    "tags": []
   },
   "outputs": [
    {
     "name": "stdout",
     "output_type": "stream",
     "text": [
      "/kaggle/input/titanic/train.csv\n",
      "/kaggle/input/titanic/test.csv\n",
      "/kaggle/input/titanic/gender_submission.csv\n"
     ]
    }
   ],
   "source": [
    "# This Python 3 environment comes with many helpful analytics libraries installed\n",
    "# It is defined by the kaggle/python Docker image: https://github.com/kaggle/docker-python\n",
    "# For example, here's several helpful packages to load\n",
    "\n",
    "import numpy as np # linear algebra\n",
    "import pandas as pd # data processing, CSV file I/O (e.g. pd.read_csv)\n",
    "\n",
    "# Input data files are available in the read-only \"../input/\" directory\n",
    "# For example, running this (by clicking run or pressing Shift+Enter) will list all files under the input directory\n",
    "\n",
    "import os\n",
    "for dirname, _, filenames in os.walk('/kaggle/input'):\n",
    "    for filename in filenames:\n",
    "        print(os.path.join(dirname, filename))\n",
    "\n",
    "# You can write up to 20GB to the current directory (/kaggle/working/) that gets preserved as output when you create a version using \"Save & Run All\" \n",
    "# You can also write temporary files to /kaggle/temp/, but they won't be saved outside of the current session"
   ]
  },
  {
   "cell_type": "code",
   "execution_count": 2,
   "id": "taken-clinton",
   "metadata": {
    "execution": {
     "iopub.execute_input": "2021-06-11T21:35:22.504646Z",
     "iopub.status.busy": "2021-06-11T21:35:22.503972Z",
     "iopub.status.idle": "2021-06-11T21:35:22.531640Z",
     "shell.execute_reply": "2021-06-11T21:35:22.531100Z",
     "shell.execute_reply.started": "2021-06-11T19:48:13.958395Z"
    },
    "papermill": {
     "duration": 0.067299,
     "end_time": "2021-06-11T21:35:22.531814",
     "exception": false,
     "start_time": "2021-06-11T21:35:22.464515",
     "status": "completed"
    },
    "tags": []
   },
   "outputs": [],
   "source": [
    "trainData = pd.read_csv(\"/kaggle/input/titanic/train.csv\")\n",
    "testData = pd.read_csv(\"/kaggle/input/titanic/test.csv\")"
   ]
  },
  {
   "cell_type": "markdown",
   "id": "violent-interim",
   "metadata": {
    "papermill": {
     "duration": 0.033598,
     "end_time": "2021-06-11T21:35:22.599653",
     "exception": false,
     "start_time": "2021-06-11T21:35:22.566055",
     "status": "completed"
    },
    "tags": []
   },
   "source": [
    "* Read Train & Test Data Files"
   ]
  },
  {
   "cell_type": "code",
   "execution_count": 3,
   "id": "suspected-emerald",
   "metadata": {
    "execution": {
     "iopub.execute_input": "2021-06-11T21:35:22.673028Z",
     "iopub.status.busy": "2021-06-11T21:35:22.672268Z",
     "iopub.status.idle": "2021-06-11T21:35:22.722764Z",
     "shell.execute_reply": "2021-06-11T21:35:22.723265Z",
     "shell.execute_reply.started": "2021-06-11T19:48:13.979302Z"
    },
    "papermill": {
     "duration": 0.089505,
     "end_time": "2021-06-11T21:35:22.723477",
     "exception": false,
     "start_time": "2021-06-11T21:35:22.633972",
     "status": "completed"
    },
    "tags": []
   },
   "outputs": [
    {
     "data": {
      "text/html": [
       "<div>\n",
       "<style scoped>\n",
       "    .dataframe tbody tr th:only-of-type {\n",
       "        vertical-align: middle;\n",
       "    }\n",
       "\n",
       "    .dataframe tbody tr th {\n",
       "        vertical-align: top;\n",
       "    }\n",
       "\n",
       "    .dataframe thead th {\n",
       "        text-align: right;\n",
       "    }\n",
       "</style>\n",
       "<table border=\"1\" class=\"dataframe\">\n",
       "  <thead>\n",
       "    <tr style=\"text-align: right;\">\n",
       "      <th></th>\n",
       "      <th>PassengerId</th>\n",
       "      <th>Survived</th>\n",
       "      <th>Pclass</th>\n",
       "      <th>Age</th>\n",
       "      <th>SibSp</th>\n",
       "      <th>Parch</th>\n",
       "      <th>Fare</th>\n",
       "    </tr>\n",
       "  </thead>\n",
       "  <tbody>\n",
       "    <tr>\n",
       "      <th>count</th>\n",
       "      <td>891.000000</td>\n",
       "      <td>891.000000</td>\n",
       "      <td>891.000000</td>\n",
       "      <td>714.000000</td>\n",
       "      <td>891.000000</td>\n",
       "      <td>891.000000</td>\n",
       "      <td>891.000000</td>\n",
       "    </tr>\n",
       "    <tr>\n",
       "      <th>mean</th>\n",
       "      <td>446.000000</td>\n",
       "      <td>0.383838</td>\n",
       "      <td>2.308642</td>\n",
       "      <td>29.699118</td>\n",
       "      <td>0.523008</td>\n",
       "      <td>0.381594</td>\n",
       "      <td>32.204208</td>\n",
       "    </tr>\n",
       "    <tr>\n",
       "      <th>std</th>\n",
       "      <td>257.353842</td>\n",
       "      <td>0.486592</td>\n",
       "      <td>0.836071</td>\n",
       "      <td>14.526497</td>\n",
       "      <td>1.102743</td>\n",
       "      <td>0.806057</td>\n",
       "      <td>49.693429</td>\n",
       "    </tr>\n",
       "    <tr>\n",
       "      <th>min</th>\n",
       "      <td>1.000000</td>\n",
       "      <td>0.000000</td>\n",
       "      <td>1.000000</td>\n",
       "      <td>0.420000</td>\n",
       "      <td>0.000000</td>\n",
       "      <td>0.000000</td>\n",
       "      <td>0.000000</td>\n",
       "    </tr>\n",
       "    <tr>\n",
       "      <th>25%</th>\n",
       "      <td>223.500000</td>\n",
       "      <td>0.000000</td>\n",
       "      <td>2.000000</td>\n",
       "      <td>20.125000</td>\n",
       "      <td>0.000000</td>\n",
       "      <td>0.000000</td>\n",
       "      <td>7.910400</td>\n",
       "    </tr>\n",
       "    <tr>\n",
       "      <th>50%</th>\n",
       "      <td>446.000000</td>\n",
       "      <td>0.000000</td>\n",
       "      <td>3.000000</td>\n",
       "      <td>28.000000</td>\n",
       "      <td>0.000000</td>\n",
       "      <td>0.000000</td>\n",
       "      <td>14.454200</td>\n",
       "    </tr>\n",
       "    <tr>\n",
       "      <th>75%</th>\n",
       "      <td>668.500000</td>\n",
       "      <td>1.000000</td>\n",
       "      <td>3.000000</td>\n",
       "      <td>38.000000</td>\n",
       "      <td>1.000000</td>\n",
       "      <td>0.000000</td>\n",
       "      <td>31.000000</td>\n",
       "    </tr>\n",
       "    <tr>\n",
       "      <th>max</th>\n",
       "      <td>891.000000</td>\n",
       "      <td>1.000000</td>\n",
       "      <td>3.000000</td>\n",
       "      <td>80.000000</td>\n",
       "      <td>8.000000</td>\n",
       "      <td>6.000000</td>\n",
       "      <td>512.329200</td>\n",
       "    </tr>\n",
       "  </tbody>\n",
       "</table>\n",
       "</div>"
      ],
      "text/plain": [
       "       PassengerId    Survived      Pclass         Age       SibSp  \\\n",
       "count   891.000000  891.000000  891.000000  714.000000  891.000000   \n",
       "mean    446.000000    0.383838    2.308642   29.699118    0.523008   \n",
       "std     257.353842    0.486592    0.836071   14.526497    1.102743   \n",
       "min       1.000000    0.000000    1.000000    0.420000    0.000000   \n",
       "25%     223.500000    0.000000    2.000000   20.125000    0.000000   \n",
       "50%     446.000000    0.000000    3.000000   28.000000    0.000000   \n",
       "75%     668.500000    1.000000    3.000000   38.000000    1.000000   \n",
       "max     891.000000    1.000000    3.000000   80.000000    8.000000   \n",
       "\n",
       "            Parch        Fare  \n",
       "count  891.000000  891.000000  \n",
       "mean     0.381594   32.204208  \n",
       "std      0.806057   49.693429  \n",
       "min      0.000000    0.000000  \n",
       "25%      0.000000    7.910400  \n",
       "50%      0.000000   14.454200  \n",
       "75%      0.000000   31.000000  \n",
       "max      6.000000  512.329200  "
      ]
     },
     "execution_count": 3,
     "metadata": {},
     "output_type": "execute_result"
    }
   ],
   "source": [
    "trainData.describe()"
   ]
  },
  {
   "cell_type": "code",
   "execution_count": 4,
   "id": "attempted-analysis",
   "metadata": {
    "execution": {
     "iopub.execute_input": "2021-06-11T21:35:22.813014Z",
     "iopub.status.busy": "2021-06-11T21:35:22.812018Z",
     "iopub.status.idle": "2021-06-11T21:35:22.815954Z",
     "shell.execute_reply": "2021-06-11T21:35:22.816433Z",
     "shell.execute_reply.started": "2021-06-11T19:48:14.019711Z"
    },
    "papermill": {
     "duration": 0.057506,
     "end_time": "2021-06-11T21:35:22.816637",
     "exception": false,
     "start_time": "2021-06-11T21:35:22.759131",
     "status": "completed"
    },
    "tags": []
   },
   "outputs": [
    {
     "data": {
      "text/html": [
       "<div>\n",
       "<style scoped>\n",
       "    .dataframe tbody tr th:only-of-type {\n",
       "        vertical-align: middle;\n",
       "    }\n",
       "\n",
       "    .dataframe tbody tr th {\n",
       "        vertical-align: top;\n",
       "    }\n",
       "\n",
       "    .dataframe thead th {\n",
       "        text-align: right;\n",
       "    }\n",
       "</style>\n",
       "<table border=\"1\" class=\"dataframe\">\n",
       "  <thead>\n",
       "    <tr style=\"text-align: right;\">\n",
       "      <th></th>\n",
       "      <th>PassengerId</th>\n",
       "      <th>Survived</th>\n",
       "      <th>Pclass</th>\n",
       "      <th>Name</th>\n",
       "      <th>Sex</th>\n",
       "      <th>Age</th>\n",
       "      <th>SibSp</th>\n",
       "      <th>Parch</th>\n",
       "      <th>Ticket</th>\n",
       "      <th>Fare</th>\n",
       "      <th>Cabin</th>\n",
       "      <th>Embarked</th>\n",
       "    </tr>\n",
       "  </thead>\n",
       "  <tbody>\n",
       "    <tr>\n",
       "      <th>0</th>\n",
       "      <td>1</td>\n",
       "      <td>0</td>\n",
       "      <td>3</td>\n",
       "      <td>Braund, Mr. Owen Harris</td>\n",
       "      <td>male</td>\n",
       "      <td>22.0</td>\n",
       "      <td>1</td>\n",
       "      <td>0</td>\n",
       "      <td>A/5 21171</td>\n",
       "      <td>7.2500</td>\n",
       "      <td>NaN</td>\n",
       "      <td>S</td>\n",
       "    </tr>\n",
       "    <tr>\n",
       "      <th>1</th>\n",
       "      <td>2</td>\n",
       "      <td>1</td>\n",
       "      <td>1</td>\n",
       "      <td>Cumings, Mrs. John Bradley (Florence Briggs Th...</td>\n",
       "      <td>female</td>\n",
       "      <td>38.0</td>\n",
       "      <td>1</td>\n",
       "      <td>0</td>\n",
       "      <td>PC 17599</td>\n",
       "      <td>71.2833</td>\n",
       "      <td>C85</td>\n",
       "      <td>C</td>\n",
       "    </tr>\n",
       "    <tr>\n",
       "      <th>2</th>\n",
       "      <td>3</td>\n",
       "      <td>1</td>\n",
       "      <td>3</td>\n",
       "      <td>Heikkinen, Miss. Laina</td>\n",
       "      <td>female</td>\n",
       "      <td>26.0</td>\n",
       "      <td>0</td>\n",
       "      <td>0</td>\n",
       "      <td>STON/O2. 3101282</td>\n",
       "      <td>7.9250</td>\n",
       "      <td>NaN</td>\n",
       "      <td>S</td>\n",
       "    </tr>\n",
       "    <tr>\n",
       "      <th>3</th>\n",
       "      <td>4</td>\n",
       "      <td>1</td>\n",
       "      <td>1</td>\n",
       "      <td>Futrelle, Mrs. Jacques Heath (Lily May Peel)</td>\n",
       "      <td>female</td>\n",
       "      <td>35.0</td>\n",
       "      <td>1</td>\n",
       "      <td>0</td>\n",
       "      <td>113803</td>\n",
       "      <td>53.1000</td>\n",
       "      <td>C123</td>\n",
       "      <td>S</td>\n",
       "    </tr>\n",
       "    <tr>\n",
       "      <th>4</th>\n",
       "      <td>5</td>\n",
       "      <td>0</td>\n",
       "      <td>3</td>\n",
       "      <td>Allen, Mr. William Henry</td>\n",
       "      <td>male</td>\n",
       "      <td>35.0</td>\n",
       "      <td>0</td>\n",
       "      <td>0</td>\n",
       "      <td>373450</td>\n",
       "      <td>8.0500</td>\n",
       "      <td>NaN</td>\n",
       "      <td>S</td>\n",
       "    </tr>\n",
       "  </tbody>\n",
       "</table>\n",
       "</div>"
      ],
      "text/plain": [
       "   PassengerId  Survived  Pclass  \\\n",
       "0            1         0       3   \n",
       "1            2         1       1   \n",
       "2            3         1       3   \n",
       "3            4         1       1   \n",
       "4            5         0       3   \n",
       "\n",
       "                                                Name     Sex   Age  SibSp  \\\n",
       "0                            Braund, Mr. Owen Harris    male  22.0      1   \n",
       "1  Cumings, Mrs. John Bradley (Florence Briggs Th...  female  38.0      1   \n",
       "2                             Heikkinen, Miss. Laina  female  26.0      0   \n",
       "3       Futrelle, Mrs. Jacques Heath (Lily May Peel)  female  35.0      1   \n",
       "4                           Allen, Mr. William Henry    male  35.0      0   \n",
       "\n",
       "   Parch            Ticket     Fare Cabin Embarked  \n",
       "0      0         A/5 21171   7.2500   NaN        S  \n",
       "1      0          PC 17599  71.2833   C85        C  \n",
       "2      0  STON/O2. 3101282   7.9250   NaN        S  \n",
       "3      0            113803  53.1000  C123        S  \n",
       "4      0            373450   8.0500   NaN        S  "
      ]
     },
     "execution_count": 4,
     "metadata": {},
     "output_type": "execute_result"
    }
   ],
   "source": [
    "trainData.head()"
   ]
  },
  {
   "cell_type": "markdown",
   "id": "nasty-athens",
   "metadata": {
    "papermill": {
     "duration": 0.038667,
     "end_time": "2021-06-11T21:35:22.892189",
     "exception": false,
     "start_time": "2021-06-11T21:35:22.853522",
     "status": "completed"
    },
    "tags": []
   },
   "source": [
    "# **1. Visualizing, Aanalyzing and Investigating the Data**"
   ]
  },
  {
   "cell_type": "markdown",
   "id": "color-cricket",
   "metadata": {
    "papermill": {
     "duration": 0.041975,
     "end_time": "2021-06-11T21:35:22.976759",
     "exception": false,
     "start_time": "2021-06-11T21:35:22.934784",
     "status": "completed"
    },
    "tags": []
   },
   "source": [
    "* As a Conclusion from the above 5 diagrams, we find that:\n",
    "    1. Survivals were way less than Drawns\n",
    "    2. Females were way more than the Males Survivors\n",
    "    3. Merging 1 and 3 for better visualization\n",
    "    4. Pclass 3 had the least survivals\n",
    "    5. Merging 1 and 5 for better visualization\n",
    "    "
   ]
  },
  {
   "cell_type": "code",
   "execution_count": 5,
   "id": "union-sponsorship",
   "metadata": {
    "execution": {
     "iopub.execute_input": "2021-06-11T21:35:23.056901Z",
     "iopub.status.busy": "2021-06-11T21:35:23.055952Z",
     "iopub.status.idle": "2021-06-11T21:35:23.922208Z",
     "shell.execute_reply": "2021-06-11T21:35:23.921604Z",
     "shell.execute_reply.started": "2021-06-11T19:48:14.041937Z"
    },
    "papermill": {
     "duration": 0.905653,
     "end_time": "2021-06-11T21:35:23.922366",
     "exception": false,
     "start_time": "2021-06-11T21:35:23.016713",
     "status": "completed"
    },
    "tags": []
   },
   "outputs": [],
   "source": [
    "import seaborn as sns\n",
    "import matplotlib.pyplot as plt"
   ]
  },
  {
   "cell_type": "code",
   "execution_count": 6,
   "id": "wanted-perfume",
   "metadata": {
    "execution": {
     "iopub.execute_input": "2021-06-11T21:35:24.002448Z",
     "iopub.status.busy": "2021-06-11T21:35:24.001689Z",
     "iopub.status.idle": "2021-06-11T21:35:24.145713Z",
     "shell.execute_reply": "2021-06-11T21:35:24.146249Z",
     "shell.execute_reply.started": "2021-06-11T19:48:14.056338Z"
    },
    "papermill": {
     "duration": 0.186891,
     "end_time": "2021-06-11T21:35:24.146445",
     "exception": false,
     "start_time": "2021-06-11T21:35:23.959554",
     "status": "completed"
    },
    "tags": []
   },
   "outputs": [
    {
     "data": {
      "image/png": "[encoded data removed]",
      "text/plain": [
       "<Figure size 360x360 with 1 Axes>"
      ]
     },
     "metadata": {
      "needs_background": "light"
     },
     "output_type": "display_data"
    }
   ],
   "source": [
    "plt.subplots(figsize=(5, 5))\n",
    "sns.countplot(x='Survived', data=trainData)\n",
    "plt.title('Survivals Diagram')\n",
    "plt.show()"
   ]
  },
  {
   "cell_type": "code",
   "execution_count": 7,
   "id": "revised-loading",
   "metadata": {
    "execution": {
     "iopub.execute_input": "2021-06-11T21:35:24.222524Z",
     "iopub.status.busy": "2021-06-11T21:35:24.221857Z",
     "iopub.status.idle": "2021-06-11T21:35:24.341021Z",
     "shell.execute_reply": "2021-06-11T21:35:24.341541Z",
     "shell.execute_reply.started": "2021-06-11T19:48:14.188478Z"
    },
    "papermill": {
     "duration": 0.15879,
     "end_time": "2021-06-11T21:35:24.341756",
     "exception": false,
     "start_time": "2021-06-11T21:35:24.182966",
     "status": "completed"
    },
    "tags": []
   },
   "outputs": [
    {
     "data": {
      "image/png": "[encoded data removed]",
      "text/plain": [
       "<Figure size 360x360 with 1 Axes>"
      ]
     },
     "metadata": {
      "needs_background": "light"
     },
     "output_type": "display_data"
    }
   ],
   "source": [
    "plt.subplots(figsize=(5, 5))\n",
    "sns.barplot(x='Sex', y='Survived', data=trainData, ci=None)\n",
    "plt.title('Survivals based on Sex Diagram')\n",
    "plt.show()"
   ]
  },
  {
   "cell_type": "code",
   "execution_count": 8,
   "id": "quarterly-original",
   "metadata": {
    "execution": {
     "iopub.execute_input": "2021-06-11T21:35:24.422249Z",
     "iopub.status.busy": "2021-06-11T21:35:24.421505Z",
     "iopub.status.idle": "2021-06-11T21:35:24.585286Z",
     "shell.execute_reply": "2021-06-11T21:35:24.585769Z",
     "shell.execute_reply.started": "2021-06-11T19:48:14.321282Z"
    },
    "papermill": {
     "duration": 0.206821,
     "end_time": "2021-06-11T21:35:24.585991",
     "exception": false,
     "start_time": "2021-06-11T21:35:24.379170",
     "status": "completed"
    },
    "tags": []
   },
   "outputs": [
    {
     "data": {
      "text/plain": [
       "<AxesSubplot:xlabel='Survived'>"
      ]
     },
     "execution_count": 8,
     "metadata": {},
     "output_type": "execute_result"
    },
    {
     "data": {
      "image/png": "[encoded data removed]",
      "text/plain": [
       "<Figure size 432x288 with 1 Axes>"
      ]
     },
     "metadata": {
      "needs_background": "light"
     },
     "output_type": "display_data"
    }
   ],
   "source": [
    "grouped = trainData.groupby('Survived')['Sex']\n",
    "grouped.value_counts().unstack().plot(kind=\"bar\",stacked=\"True\")"
   ]
  },
  {
   "cell_type": "code",
   "execution_count": 9,
   "id": "critical-breath",
   "metadata": {
    "execution": {
     "iopub.execute_input": "2021-06-11T21:35:24.665247Z",
     "iopub.status.busy": "2021-06-11T21:35:24.664623Z",
     "iopub.status.idle": "2021-06-11T21:35:24.788717Z",
     "shell.execute_reply": "2021-06-11T21:35:24.788080Z",
     "shell.execute_reply.started": "2021-06-11T19:48:14.500845Z"
    },
    "papermill": {
     "duration": 0.164732,
     "end_time": "2021-06-11T21:35:24.788882",
     "exception": false,
     "start_time": "2021-06-11T21:35:24.624150",
     "status": "completed"
    },
    "tags": []
   },
   "outputs": [
    {
     "data": {
      "image/png": "[encoded data removed]",
      "text/plain": [
       "<Figure size 360x360 with 1 Axes>"
      ]
     },
     "metadata": {
      "needs_background": "light"
     },
     "output_type": "display_data"
    }
   ],
   "source": [
    "plt.subplots(figsize=(5, 5))\n",
    "sns.barplot(x='Pclass', y='Survived', data=trainData, ci=None)\n",
    "plt.title('Survivals based on Pclass Diagram')\n",
    "plt.show()"
   ]
  },
  {
   "cell_type": "code",
   "execution_count": 10,
   "id": "macro-shareware",
   "metadata": {
    "execution": {
     "iopub.execute_input": "2021-06-11T21:35:24.873219Z",
     "iopub.status.busy": "2021-06-11T21:35:24.872517Z",
     "iopub.status.idle": "2021-06-11T21:35:25.030909Z",
     "shell.execute_reply": "2021-06-11T21:35:25.031394Z",
     "shell.execute_reply.started": "2021-06-11T19:48:14.651498Z"
    },
    "papermill": {
     "duration": 0.203848,
     "end_time": "2021-06-11T21:35:25.031615",
     "exception": false,
     "start_time": "2021-06-11T21:35:24.827767",
     "status": "completed"
    },
    "tags": []
   },
   "outputs": [
    {
     "data": {
      "text/plain": [
       "<AxesSubplot:xlabel='Survived'>"
      ]
     },
     "execution_count": 10,
     "metadata": {},
     "output_type": "execute_result"
    },
    {
     "data": {
      "image/png": "[encoded data removed]",
      "text/plain": [
       "<Figure size 432x288 with 1 Axes>"
      ]
     },
     "metadata": {
      "needs_background": "light"
     },
     "output_type": "display_data"
    }
   ],
   "source": [
    "grouped = trainData.groupby('Survived')['Pclass']\n",
    "grouped.value_counts().unstack().plot(kind=\"bar\",stacked=\"True\")"
   ]
  },
  {
   "cell_type": "markdown",
   "id": "characteristic-tutorial",
   "metadata": {
    "papermill": {
     "duration": 0.040651,
     "end_time": "2021-06-11T21:35:25.112188",
     "exception": false,
     "start_time": "2021-06-11T21:35:25.071537",
     "status": "completed"
    },
    "tags": []
   },
   "source": [
    "# **2. Preprocessing the Data**"
   ]
  },
  {
   "cell_type": "markdown",
   "id": "coastal-vienna",
   "metadata": {
    "papermill": {
     "duration": 0.039524,
     "end_time": "2021-06-11T21:35:25.191942",
     "exception": false,
     "start_time": "2021-06-11T21:35:25.152418",
     "status": "completed"
    },
    "tags": []
   },
   "source": [
    "* Check for Null values in train and test data."
   ]
  },
  {
   "cell_type": "code",
   "execution_count": 11,
   "id": "excessive-transsexual",
   "metadata": {
    "execution": {
     "iopub.execute_input": "2021-06-11T21:35:25.280733Z",
     "iopub.status.busy": "2021-06-11T21:35:25.279707Z",
     "iopub.status.idle": "2021-06-11T21:35:25.284491Z",
     "shell.execute_reply": "2021-06-11T21:35:25.283901Z",
     "shell.execute_reply.started": "2021-06-11T19:48:14.815564Z"
    },
    "papermill": {
     "duration": 0.052709,
     "end_time": "2021-06-11T21:35:25.284659",
     "exception": false,
     "start_time": "2021-06-11T21:35:25.231950",
     "status": "completed"
    },
    "tags": []
   },
   "outputs": [
    {
     "data": {
      "text/plain": [
       "PassengerId      0\n",
       "Survived         0\n",
       "Pclass           0\n",
       "Name             0\n",
       "Sex              0\n",
       "Age            177\n",
       "SibSp            0\n",
       "Parch            0\n",
       "Ticket           0\n",
       "Fare             0\n",
       "Cabin          687\n",
       "Embarked         2\n",
       "dtype: int64"
      ]
     },
     "execution_count": 11,
     "metadata": {},
     "output_type": "execute_result"
    }
   ],
   "source": [
    "trainData.isnull().sum()"
   ]
  },
  {
   "cell_type": "code",
   "execution_count": 12,
   "id": "coupled-starter",
   "metadata": {
    "execution": {
     "iopub.execute_input": "2021-06-11T21:35:25.372024Z",
     "iopub.status.busy": "2021-06-11T21:35:25.371372Z",
     "iopub.status.idle": "2021-06-11T21:35:25.377523Z",
     "shell.execute_reply": "2021-06-11T21:35:25.377036Z",
     "shell.execute_reply.started": "2021-06-11T19:48:14.826126Z"
    },
    "papermill": {
     "duration": 0.05343,
     "end_time": "2021-06-11T21:35:25.377688",
     "exception": false,
     "start_time": "2021-06-11T21:35:25.324258",
     "status": "completed"
    },
    "tags": []
   },
   "outputs": [
    {
     "data": {
      "text/plain": [
       "PassengerId      0\n",
       "Pclass           0\n",
       "Name             0\n",
       "Sex              0\n",
       "Age             86\n",
       "SibSp            0\n",
       "Parch            0\n",
       "Ticket           0\n",
       "Fare             1\n",
       "Cabin          327\n",
       "Embarked         0\n",
       "dtype: int64"
      ]
     },
     "execution_count": 12,
     "metadata": {},
     "output_type": "execute_result"
    }
   ],
   "source": [
    "testData.isnull().sum()"
   ]
  },
  {
   "cell_type": "markdown",
   "id": "funky-secret",
   "metadata": {
    "papermill": {
     "duration": 0.039491,
     "end_time": "2021-06-11T21:35:25.456843",
     "exception": false,
     "start_time": "2021-06-11T21:35:25.417352",
     "status": "completed"
    },
    "tags": []
   },
   "source": [
    "**Handling NaN Column Cells**\n",
    "1. First: Drop Cabin Column as most of the values are lacking from trainData and testData (around 76% of values NaN).\n",
    "2. Second: Drop the rows having NaN cells in Embarked Column from trainData as they are only 2, not so effective.\n",
    "3. Third: Deal with the Fare empty cell in the testData.\n",
    "4. Fourth: Deal with the missing \"Age\" Column."
   ]
  },
  {
   "cell_type": "code",
   "execution_count": 13,
   "id": "adjustable-cathedral",
   "metadata": {
    "execution": {
     "iopub.execute_input": "2021-06-11T21:35:25.545986Z",
     "iopub.status.busy": "2021-06-11T21:35:25.544288Z",
     "iopub.status.idle": "2021-06-11T21:35:25.566947Z",
     "shell.execute_reply": "2021-06-11T21:35:25.566245Z",
     "shell.execute_reply.started": "2021-06-11T19:48:14.851498Z"
    },
    "papermill": {
     "duration": 0.07061,
     "end_time": "2021-06-11T21:35:25.567095",
     "exception": false,
     "start_time": "2021-06-11T21:35:25.496485",
     "status": "completed"
    },
    "tags": []
   },
   "outputs": [],
   "source": [
    "# Dropping Cabin Column from Train and Test Data\n",
    "trainData.drop(columns=['Cabin'], inplace=True)\n",
    "testData.drop(columns=['Cabin'], inplace=True)\n",
    "\n",
    "# Dropping NaN Rows of Embarked from Train Data\n",
    "trainData.dropna(subset=['Embarked'], inplace=True)"
   ]
  },
  {
   "cell_type": "code",
   "execution_count": 14,
   "id": "assured-telling",
   "metadata": {
    "execution": {
     "iopub.execute_input": "2021-06-11T21:35:25.655895Z",
     "iopub.status.busy": "2021-06-11T21:35:25.654857Z",
     "iopub.status.idle": "2021-06-11T21:35:25.683484Z",
     "shell.execute_reply": "2021-06-11T21:35:25.682992Z",
     "shell.execute_reply.started": "2021-06-11T19:48:14.868685Z"
    },
    "papermill": {
     "duration": 0.076723,
     "end_time": "2021-06-11T21:35:25.683640",
     "exception": false,
     "start_time": "2021-06-11T21:35:25.606917",
     "status": "completed"
    },
    "tags": []
   },
   "outputs": [
    {
     "data": {
      "text/html": [
       "<div>\n",
       "<style scoped>\n",
       "    .dataframe tbody tr th:only-of-type {\n",
       "        vertical-align: middle;\n",
       "    }\n",
       "\n",
       "    .dataframe tbody tr th {\n",
       "        vertical-align: top;\n",
       "    }\n",
       "\n",
       "    .dataframe thead th {\n",
       "        text-align: right;\n",
       "    }\n",
       "</style>\n",
       "<table border=\"1\" class=\"dataframe\">\n",
       "  <thead>\n",
       "    <tr style=\"text-align: right;\">\n",
       "      <th></th>\n",
       "      <th>PassengerId</th>\n",
       "      <th>Survived</th>\n",
       "      <th>Pclass</th>\n",
       "      <th>Age</th>\n",
       "      <th>SibSp</th>\n",
       "      <th>Parch</th>\n",
       "      <th>Fare</th>\n",
       "    </tr>\n",
       "  </thead>\n",
       "  <tbody>\n",
       "    <tr>\n",
       "      <th>count</th>\n",
       "      <td>889.000000</td>\n",
       "      <td>889.000000</td>\n",
       "      <td>889.000000</td>\n",
       "      <td>712.000000</td>\n",
       "      <td>889.000000</td>\n",
       "      <td>889.000000</td>\n",
       "      <td>889.000000</td>\n",
       "    </tr>\n",
       "    <tr>\n",
       "      <th>mean</th>\n",
       "      <td>446.000000</td>\n",
       "      <td>0.382452</td>\n",
       "      <td>2.311586</td>\n",
       "      <td>29.642093</td>\n",
       "      <td>0.524184</td>\n",
       "      <td>0.382452</td>\n",
       "      <td>32.096681</td>\n",
       "    </tr>\n",
       "    <tr>\n",
       "      <th>std</th>\n",
       "      <td>256.998173</td>\n",
       "      <td>0.486260</td>\n",
       "      <td>0.834700</td>\n",
       "      <td>14.492933</td>\n",
       "      <td>1.103705</td>\n",
       "      <td>0.806761</td>\n",
       "      <td>49.697504</td>\n",
       "    </tr>\n",
       "    <tr>\n",
       "      <th>min</th>\n",
       "      <td>1.000000</td>\n",
       "      <td>0.000000</td>\n",
       "      <td>1.000000</td>\n",
       "      <td>0.420000</td>\n",
       "      <td>0.000000</td>\n",
       "      <td>0.000000</td>\n",
       "      <td>0.000000</td>\n",
       "    </tr>\n",
       "    <tr>\n",
       "      <th>25%</th>\n",
       "      <td>224.000000</td>\n",
       "      <td>0.000000</td>\n",
       "      <td>2.000000</td>\n",
       "      <td>20.000000</td>\n",
       "      <td>0.000000</td>\n",
       "      <td>0.000000</td>\n",
       "      <td>7.895800</td>\n",
       "    </tr>\n",
       "    <tr>\n",
       "      <th>50%</th>\n",
       "      <td>446.000000</td>\n",
       "      <td>0.000000</td>\n",
       "      <td>3.000000</td>\n",
       "      <td>28.000000</td>\n",
       "      <td>0.000000</td>\n",
       "      <td>0.000000</td>\n",
       "      <td>14.454200</td>\n",
       "    </tr>\n",
       "    <tr>\n",
       "      <th>75%</th>\n",
       "      <td>668.000000</td>\n",
       "      <td>1.000000</td>\n",
       "      <td>3.000000</td>\n",
       "      <td>38.000000</td>\n",
       "      <td>1.000000</td>\n",
       "      <td>0.000000</td>\n",
       "      <td>31.000000</td>\n",
       "    </tr>\n",
       "    <tr>\n",
       "      <th>max</th>\n",
       "      <td>891.000000</td>\n",
       "      <td>1.000000</td>\n",
       "      <td>3.000000</td>\n",
       "      <td>80.000000</td>\n",
       "      <td>8.000000</td>\n",
       "      <td>6.000000</td>\n",
       "      <td>512.329200</td>\n",
       "    </tr>\n",
       "  </tbody>\n",
       "</table>\n",
       "</div>"
      ],
      "text/plain": [
       "       PassengerId    Survived      Pclass         Age       SibSp  \\\n",
       "count   889.000000  889.000000  889.000000  712.000000  889.000000   \n",
       "mean    446.000000    0.382452    2.311586   29.642093    0.524184   \n",
       "std     256.998173    0.486260    0.834700   14.492933    1.103705   \n",
       "min       1.000000    0.000000    1.000000    0.420000    0.000000   \n",
       "25%     224.000000    0.000000    2.000000   20.000000    0.000000   \n",
       "50%     446.000000    0.000000    3.000000   28.000000    0.000000   \n",
       "75%     668.000000    1.000000    3.000000   38.000000    1.000000   \n",
       "max     891.000000    1.000000    3.000000   80.000000    8.000000   \n",
       "\n",
       "            Parch        Fare  \n",
       "count  889.000000  889.000000  \n",
       "mean     0.382452   32.096681  \n",
       "std      0.806761   49.697504  \n",
       "min      0.000000    0.000000  \n",
       "25%      0.000000    7.895800  \n",
       "50%      0.000000   14.454200  \n",
       "75%      0.000000   31.000000  \n",
       "max      6.000000  512.329200  "
      ]
     },
     "execution_count": 14,
     "metadata": {},
     "output_type": "execute_result"
    }
   ],
   "source": [
    "\n",
    "trainData.describe()"
   ]
  },
  {
   "cell_type": "markdown",
   "id": "informative-appearance",
   "metadata": {
    "papermill": {
     "duration": 0.040399,
     "end_time": "2021-06-11T21:35:25.764398",
     "exception": false,
     "start_time": "2021-06-11T21:35:25.723999",
     "status": "completed"
    },
    "tags": []
   },
   "source": [
    "* Visualizing the Diagram above, we find that using the Mode of values could be a good option to replace NaN Values of Fare Column."
   ]
  },
  {
   "cell_type": "code",
   "execution_count": 15,
   "id": "sexual-camel",
   "metadata": {
    "execution": {
     "iopub.execute_input": "2021-06-11T21:35:25.868117Z",
     "iopub.status.busy": "2021-06-11T21:35:25.867103Z",
     "iopub.status.idle": "2021-06-11T21:35:26.277317Z",
     "shell.execute_reply": "2021-06-11T21:35:26.277909Z",
     "shell.execute_reply.started": "2021-06-11T19:48:14.91544Z"
    },
    "papermill": {
     "duration": 0.473406,
     "end_time": "2021-06-11T21:35:26.278080",
     "exception": false,
     "start_time": "2021-06-11T21:35:25.804674",
     "status": "completed"
    },
    "tags": []
   },
   "outputs": [
    {
     "data": {
      "text/plain": [
       "<AxesSubplot:xlabel='Fare', ylabel='Count'>"
      ]
     },
     "execution_count": 15,
     "metadata": {},
     "output_type": "execute_result"
    },
    {
     "data": {
      "image/png": "[encoded data removed]",
      "text/plain": [
       "<Figure size 720x576 with 1 Axes>"
      ]
     },
     "metadata": {
      "needs_background": "light"
     },
     "output_type": "display_data"
    }
   ],
   "source": [
    "fig, ax = plt.subplots(figsize=(10,8))\n",
    "sns.histplot(testData.Fare)"
   ]
  },
  {
   "cell_type": "code",
   "execution_count": 16,
   "id": "weird-location",
   "metadata": {
    "execution": {
     "iopub.execute_input": "2021-06-11T21:35:26.364377Z",
     "iopub.status.busy": "2021-06-11T21:35:26.363401Z",
     "iopub.status.idle": "2021-06-11T21:35:26.370395Z",
     "shell.execute_reply": "2021-06-11T21:35:26.370852Z",
     "shell.execute_reply.started": "2021-06-11T19:48:15.250408Z"
    },
    "papermill": {
     "duration": 0.051765,
     "end_time": "2021-06-11T21:35:26.371035",
     "exception": false,
     "start_time": "2021-06-11T21:35:26.319270",
     "status": "completed"
    },
    "tags": []
   },
   "outputs": [],
   "source": [
    "testData['Fare'] = testData['Fare'].fillna(testData['Fare'].mode()[0])"
   ]
  },
  {
   "cell_type": "markdown",
   "id": "isolated-marker",
   "metadata": {
    "papermill": {
     "duration": 0.040895,
     "end_time": "2021-06-11T21:35:26.453124",
     "exception": false,
     "start_time": "2021-06-11T21:35:26.412229",
     "status": "completed"
    },
    "tags": []
   },
   "source": [
    "* In the below cells, we check the NaN values after removing those in the Cabin, Embarked and Fare Columns."
   ]
  },
  {
   "cell_type": "code",
   "execution_count": 17,
   "id": "human-jason",
   "metadata": {
    "execution": {
     "iopub.execute_input": "2021-06-11T21:35:26.539587Z",
     "iopub.status.busy": "2021-06-11T21:35:26.538652Z",
     "iopub.status.idle": "2021-06-11T21:35:26.546776Z",
     "shell.execute_reply": "2021-06-11T21:35:26.547270Z",
     "shell.execute_reply.started": "2021-06-11T19:48:15.258353Z"
    },
    "papermill": {
     "duration": 0.05311,
     "end_time": "2021-06-11T21:35:26.547431",
     "exception": false,
     "start_time": "2021-06-11T21:35:26.494321",
     "status": "completed"
    },
    "tags": []
   },
   "outputs": [
    {
     "data": {
      "text/plain": [
       "PassengerId      0\n",
       "Survived         0\n",
       "Pclass           0\n",
       "Name             0\n",
       "Sex              0\n",
       "Age            177\n",
       "SibSp            0\n",
       "Parch            0\n",
       "Ticket           0\n",
       "Fare             0\n",
       "Embarked         0\n",
       "dtype: int64"
      ]
     },
     "execution_count": 17,
     "metadata": {},
     "output_type": "execute_result"
    }
   ],
   "source": [
    "trainData.isnull().sum()"
   ]
  },
  {
   "cell_type": "code",
   "execution_count": 18,
   "id": "reduced-integral",
   "metadata": {
    "execution": {
     "iopub.execute_input": "2021-06-11T21:35:26.635488Z",
     "iopub.status.busy": "2021-06-11T21:35:26.634489Z",
     "iopub.status.idle": "2021-06-11T21:35:26.642969Z",
     "shell.execute_reply": "2021-06-11T21:35:26.643468Z",
     "shell.execute_reply.started": "2021-06-11T19:48:15.276562Z"
    },
    "papermill": {
     "duration": 0.054841,
     "end_time": "2021-06-11T21:35:26.643662",
     "exception": false,
     "start_time": "2021-06-11T21:35:26.588821",
     "status": "completed"
    },
    "tags": []
   },
   "outputs": [
    {
     "data": {
      "text/plain": [
       "PassengerId     0\n",
       "Pclass          0\n",
       "Name            0\n",
       "Sex             0\n",
       "Age            86\n",
       "SibSp           0\n",
       "Parch           0\n",
       "Ticket          0\n",
       "Fare            0\n",
       "Embarked        0\n",
       "dtype: int64"
      ]
     },
     "execution_count": 18,
     "metadata": {},
     "output_type": "execute_result"
    }
   ],
   "source": [
    "testData.isnull().sum()"
   ]
  },
  {
   "cell_type": "markdown",
   "id": "colonial-binary",
   "metadata": {
    "papermill": {
     "duration": 0.042062,
     "end_time": "2021-06-11T21:35:26.728173",
     "exception": false,
     "start_time": "2021-06-11T21:35:26.686111",
     "status": "completed"
    },
    "tags": []
   },
   "source": [
    "**Removing the NaN Values in Age Columns needed to be as accurate as possible as I believe it is an important feature to be considered.**\n",
    "* First: Plot the Histogram for the ages to decide which is the best Interpolation to apply"
   ]
  },
  {
   "cell_type": "code",
   "execution_count": 19,
   "id": "responsible-insert",
   "metadata": {
    "execution": {
     "iopub.execute_input": "2021-06-11T21:35:26.817807Z",
     "iopub.status.busy": "2021-06-11T21:35:26.816869Z",
     "iopub.status.idle": "2021-06-11T21:35:27.024360Z",
     "shell.execute_reply": "2021-06-11T21:35:27.023742Z",
     "shell.execute_reply.started": "2021-06-11T19:48:15.292827Z"
    },
    "papermill": {
     "duration": 0.253031,
     "end_time": "2021-06-11T21:35:27.024492",
     "exception": false,
     "start_time": "2021-06-11T21:35:26.771461",
     "status": "completed"
    },
    "tags": []
   },
   "outputs": [
    {
     "data": {
      "text/plain": [
       "<AxesSubplot:xlabel='Age', ylabel='Count'>"
      ]
     },
     "execution_count": 19,
     "metadata": {},
     "output_type": "execute_result"
    },
    {
     "data": {
      "image/png": "[encoded data removed]",
      "text/plain": [
       "<Figure size 720x576 with 1 Axes>"
      ]
     },
     "metadata": {
      "needs_background": "light"
     },
     "output_type": "display_data"
    }
   ],
   "source": [
    "fig, ax = plt.subplots(figsize=(10,8))\n",
    "sns.histplot(trainData.Age)"
   ]
  },
  {
   "cell_type": "markdown",
   "id": "established-arizona",
   "metadata": {
    "papermill": {
     "duration": 0.042913,
     "end_time": "2021-06-11T21:35:27.110420",
     "exception": false,
     "start_time": "2021-06-11T21:35:27.067507",
     "status": "completed"
    },
    "tags": []
   },
   "source": [
    "* Visualizing the Diagram above,\n",
    "* Since our model is positively skewed, Therefore, applying Interpolation using Mode or Median would possibly give the best values for the NaN Values.\n",
    "* In my model, I used Mode Imutation for the missing values."
   ]
  },
  {
   "cell_type": "code",
   "execution_count": 20,
   "id": "finished-continent",
   "metadata": {
    "execution": {
     "iopub.execute_input": "2021-06-11T21:35:27.204013Z",
     "iopub.status.busy": "2021-06-11T21:35:27.203141Z",
     "iopub.status.idle": "2021-06-11T21:35:27.206368Z",
     "shell.execute_reply": "2021-06-11T21:35:27.205872Z",
     "shell.execute_reply.started": "2021-06-11T19:48:15.506724Z"
    },
    "papermill": {
     "duration": 0.05304,
     "end_time": "2021-06-11T21:35:27.206498",
     "exception": false,
     "start_time": "2021-06-11T21:35:27.153458",
     "status": "completed"
    },
    "tags": []
   },
   "outputs": [],
   "source": [
    "trainData['Age'] = trainData['Age'].fillna(trainData['Age'].mode()[0])\n",
    "testData['Age'] = testData['Age'].fillna(testData['Age'].mode()[0])"
   ]
  },
  {
   "cell_type": "markdown",
   "id": "narrow-mason",
   "metadata": {
    "papermill": {
     "duration": 0.042531,
     "end_time": "2021-06-11T21:35:27.291935",
     "exception": false,
     "start_time": "2021-06-11T21:35:27.249404",
     "status": "completed"
    },
    "tags": []
   },
   "source": [
    "* Testing our preprocessing on the Train Data"
   ]
  },
  {
   "cell_type": "code",
   "execution_count": 21,
   "id": "contrary-beginning",
   "metadata": {
    "execution": {
     "iopub.execute_input": "2021-06-11T21:35:27.386409Z",
     "iopub.status.busy": "2021-06-11T21:35:27.385780Z",
     "iopub.status.idle": "2021-06-11T21:35:27.389615Z",
     "shell.execute_reply": "2021-06-11T21:35:27.390045Z",
     "shell.execute_reply.started": "2021-06-11T19:48:15.515794Z"
    },
    "papermill": {
     "duration": 0.054747,
     "end_time": "2021-06-11T21:35:27.390213",
     "exception": false,
     "start_time": "2021-06-11T21:35:27.335466",
     "status": "completed"
    },
    "tags": []
   },
   "outputs": [
    {
     "data": {
      "text/plain": [
       "PassengerId    0\n",
       "Survived       0\n",
       "Pclass         0\n",
       "Name           0\n",
       "Sex            0\n",
       "Age            0\n",
       "SibSp          0\n",
       "Parch          0\n",
       "Ticket         0\n",
       "Fare           0\n",
       "Embarked       0\n",
       "dtype: int64"
      ]
     },
     "execution_count": 21,
     "metadata": {},
     "output_type": "execute_result"
    }
   ],
   "source": [
    "trainData.isnull().sum()"
   ]
  },
  {
   "cell_type": "code",
   "execution_count": 22,
   "id": "arctic-composite",
   "metadata": {
    "execution": {
     "iopub.execute_input": "2021-06-11T21:35:27.486948Z",
     "iopub.status.busy": "2021-06-11T21:35:27.486206Z",
     "iopub.status.idle": "2021-06-11T21:35:27.491073Z",
     "shell.execute_reply": "2021-06-11T21:35:27.490353Z",
     "shell.execute_reply.started": "2021-06-11T19:48:15.535076Z"
    },
    "papermill": {
     "duration": 0.05774,
     "end_time": "2021-06-11T21:35:27.491230",
     "exception": false,
     "start_time": "2021-06-11T21:35:27.433490",
     "status": "completed"
    },
    "tags": []
   },
   "outputs": [
    {
     "data": {
      "text/plain": [
       "PassengerId    0\n",
       "Pclass         0\n",
       "Name           0\n",
       "Sex            0\n",
       "Age            0\n",
       "SibSp          0\n",
       "Parch          0\n",
       "Ticket         0\n",
       "Fare           0\n",
       "Embarked       0\n",
       "dtype: int64"
      ]
     },
     "execution_count": 22,
     "metadata": {},
     "output_type": "execute_result"
    }
   ],
   "source": [
    "testData.isnull().sum()"
   ]
  },
  {
   "cell_type": "markdown",
   "id": "personalized-grass",
   "metadata": {
    "papermill": {
     "duration": 0.043568,
     "end_time": "2021-06-11T21:35:27.578831",
     "exception": false,
     "start_time": "2021-06-11T21:35:27.535263",
     "status": "completed"
    },
    "tags": []
   },
   "source": [
    "# 3. Model Building & Evaluation"
   ]
  },
  {
   "cell_type": "code",
   "execution_count": 23,
   "id": "black-blend",
   "metadata": {
    "execution": {
     "iopub.execute_input": "2021-06-11T21:35:27.671883Z",
     "iopub.status.busy": "2021-06-11T21:35:27.671238Z",
     "iopub.status.idle": "2021-06-11T21:35:28.085536Z",
     "shell.execute_reply": "2021-06-11T21:35:28.084902Z",
     "shell.execute_reply.started": "2021-06-11T19:48:15.551315Z"
    },
    "papermill": {
     "duration": 0.462801,
     "end_time": "2021-06-11T21:35:28.085737",
     "exception": false,
     "start_time": "2021-06-11T21:35:27.622936",
     "status": "completed"
    },
    "tags": []
   },
   "outputs": [],
   "source": [
    "from sklearn.ensemble import RandomForestClassifier\n",
    "from sklearn.model_selection import train_test_split"
   ]
  },
  {
   "cell_type": "code",
   "execution_count": 24,
   "id": "atomic-brave",
   "metadata": {
    "execution": {
     "iopub.execute_input": "2021-06-11T21:35:28.181203Z",
     "iopub.status.busy": "2021-06-11T21:35:28.180330Z",
     "iopub.status.idle": "2021-06-11T21:35:28.184825Z",
     "shell.execute_reply": "2021-06-11T21:35:28.184203Z",
     "shell.execute_reply.started": "2021-06-11T19:48:15.566209Z"
    },
    "papermill": {
     "duration": 0.054077,
     "end_time": "2021-06-11T21:35:28.184971",
     "exception": false,
     "start_time": "2021-06-11T21:35:28.130894",
     "status": "completed"
    },
    "tags": []
   },
   "outputs": [
    {
     "data": {
      "text/plain": [
       "Index(['PassengerId', 'Survived', 'Pclass', 'Name', 'Sex', 'Age', 'SibSp',\n",
       "       'Parch', 'Ticket', 'Fare', 'Embarked'],\n",
       "      dtype='object')"
      ]
     },
     "execution_count": 24,
     "metadata": {},
     "output_type": "execute_result"
    }
   ],
   "source": [
    "trainData.columns"
   ]
  },
  {
   "cell_type": "markdown",
   "id": "altered-spice",
   "metadata": {
    "papermill": {
     "duration": 0.043948,
     "end_time": "2021-06-11T21:35:28.273184",
     "exception": false,
     "start_time": "2021-06-11T21:35:28.229236",
     "status": "completed"
    },
    "tags": []
   },
   "source": [
    "**Using get_dummies to convert the Categorical Values of \"Sex\" Column to a 0's and 1's.**"
   ]
  },
  {
   "cell_type": "code",
   "execution_count": 25,
   "id": "subtle-album",
   "metadata": {
    "execution": {
     "iopub.execute_input": "2021-06-11T21:35:28.368681Z",
     "iopub.status.busy": "2021-06-11T21:35:28.368017Z",
     "iopub.status.idle": "2021-06-11T21:35:28.380729Z",
     "shell.execute_reply": "2021-06-11T21:35:28.380159Z",
     "shell.execute_reply.started": "2021-06-11T19:48:15.58123Z"
    },
    "papermill": {
     "duration": 0.063393,
     "end_time": "2021-06-11T21:35:28.380894",
     "exception": false,
     "start_time": "2021-06-11T21:35:28.317501",
     "status": "completed"
    },
    "tags": []
   },
   "outputs": [],
   "source": [
    "y = trainData[\"Survived\"]\n",
    "# Create X\n",
    "features = ['Pclass', 'Sex','Fare', 'Age']\n",
    "X = pd.get_dummies(trainData[features])\n",
    "test_X = pd.get_dummies(testData[features])"
   ]
  },
  {
   "cell_type": "markdown",
   "id": "facial-closer",
   "metadata": {
    "papermill": {
     "duration": 0.0441,
     "end_time": "2021-06-11T21:35:28.469318",
     "exception": false,
     "start_time": "2021-06-11T21:35:28.425218",
     "status": "completed"
    },
    "tags": []
   },
   "source": [
    "**Random Initialization for the Model**"
   ]
  },
  {
   "cell_type": "code",
   "execution_count": 26,
   "id": "proprietary-hindu",
   "metadata": {
    "execution": {
     "iopub.execute_input": "2021-06-11T21:35:28.562685Z",
     "iopub.status.busy": "2021-06-11T21:35:28.561621Z",
     "iopub.status.idle": "2021-06-11T21:35:28.680433Z",
     "shell.execute_reply": "2021-06-11T21:35:28.680930Z",
     "shell.execute_reply.started": "2021-06-11T19:48:15.604884Z"
    },
    "papermill": {
     "duration": 0.167215,
     "end_time": "2021-06-11T21:35:28.681138",
     "exception": false,
     "start_time": "2021-06-11T21:35:28.513923",
     "status": "completed"
    },
    "tags": []
   },
   "outputs": [
    {
     "data": {
      "text/plain": [
       "0.8202247191011236"
      ]
     },
     "execution_count": 26,
     "metadata": {},
     "output_type": "execute_result"
    }
   ],
   "source": [
    "randomForest_model = RandomForestClassifier(n_estimators=50, max_depth=5, random_state=50)\n",
    "\n",
    "# Split into testing and training data. (Random_state = 20 for shuffling)\n",
    "X_train, X_test, y_train, y_test = train_test_split(X, y, test_size = 0.2, random_state=20)\n",
    "\n",
    "# Fit the Model\n",
    "randomForest_model.fit(X_train, y_train)\n",
    "\n",
    "\n",
    "# Model Accuracy\n",
    "randomForest_model.score(X_test, y_test)"
   ]
  },
  {
   "cell_type": "markdown",
   "id": "biblical-direction",
   "metadata": {
    "papermill": {
     "duration": 0.045021,
     "end_time": "2021-06-11T21:35:28.770618",
     "exception": false,
     "start_time": "2021-06-11T21:35:28.725597",
     "status": "completed"
    },
    "tags": []
   },
   "source": [
    "**Using the Grid Search Cross Validation Technique to Improve the Model.**"
   ]
  },
  {
   "cell_type": "code",
   "execution_count": 27,
   "id": "hungry-dominican",
   "metadata": {
    "execution": {
     "iopub.execute_input": "2021-06-11T21:35:28.864557Z",
     "iopub.status.busy": "2021-06-11T21:35:28.863622Z",
     "iopub.status.idle": "2021-06-11T21:35:28.867751Z",
     "shell.execute_reply": "2021-06-11T21:35:28.868236Z",
     "shell.execute_reply.started": "2021-06-11T19:48:15.731189Z"
    },
    "papermill": {
     "duration": 0.052789,
     "end_time": "2021-06-11T21:35:28.868427",
     "exception": false,
     "start_time": "2021-06-11T21:35:28.815638",
     "status": "completed"
    },
    "tags": []
   },
   "outputs": [],
   "source": [
    "from sklearn.model_selection import GridSearchCV"
   ]
  },
  {
   "cell_type": "markdown",
   "id": "colonial-eagle",
   "metadata": {
    "papermill": {
     "duration": 0.045683,
     "end_time": "2021-06-11T21:35:28.959234",
     "exception": false,
     "start_time": "2021-06-11T21:35:28.913551",
     "status": "completed"
    },
    "tags": []
   },
   "source": [
    "**Hyperparameters Tuning**\n",
    "* Setting Parameters for the Grid Search to Try.\n",
    "* Applying Cross Validation to avoid overfitting."
   ]
  },
  {
   "cell_type": "code",
   "execution_count": 28,
   "id": "fewer-daughter",
   "metadata": {
    "execution": {
     "iopub.execute_input": "2021-06-11T21:35:29.055410Z",
     "iopub.status.busy": "2021-06-11T21:35:29.054392Z",
     "iopub.status.idle": "2021-06-11T21:35:29.059957Z",
     "shell.execute_reply": "2021-06-11T21:35:29.059398Z",
     "shell.execute_reply.started": "2021-06-11T19:48:15.737757Z"
    },
    "papermill": {
     "duration": 0.054252,
     "end_time": "2021-06-11T21:35:29.060120",
     "exception": false,
     "start_time": "2021-06-11T21:35:29.005868",
     "status": "completed"
    },
    "tags": []
   },
   "outputs": [],
   "source": [
    "param_grid = {\n",
    "                 'n_estimators': [50, 100, 150, 200],\n",
    "                 'max_depth': [2, 5, 7, 9,11]\n",
    "             }\n"
   ]
  },
  {
   "cell_type": "code",
   "execution_count": 29,
   "id": "romance-airplane",
   "metadata": {
    "execution": {
     "iopub.execute_input": "2021-06-11T21:35:29.157453Z",
     "iopub.status.busy": "2021-06-11T21:35:29.156807Z",
     "iopub.status.idle": "2021-06-11T21:35:55.755984Z",
     "shell.execute_reply": "2021-06-11T21:35:55.756553Z",
     "shell.execute_reply.started": "2021-06-11T19:48:15.750349Z"
    },
    "papermill": {
     "duration": 26.651255,
     "end_time": "2021-06-11T21:35:55.756796",
     "exception": false,
     "start_time": "2021-06-11T21:35:29.105541",
     "status": "completed"
    },
    "tags": []
   },
   "outputs": [],
   "source": [
    "from sklearn.model_selection import GridSearchCV\n",
    "# 10 Folds for the Cross Validation\n",
    "grid_clf = GridSearchCV(randomForest_model, param_grid, cv=5)\n",
    "validated_model = grid_clf.fit(X, y)"
   ]
  },
  {
   "cell_type": "code",
   "execution_count": 30,
   "id": "proud-archives",
   "metadata": {
    "execution": {
     "iopub.execute_input": "2021-06-11T21:35:55.850266Z",
     "iopub.status.busy": "2021-06-11T21:35:55.849547Z",
     "iopub.status.idle": "2021-06-11T21:35:55.856166Z",
     "shell.execute_reply": "2021-06-11T21:35:55.855604Z"
    },
    "papermill": {
     "duration": 0.054297,
     "end_time": "2021-06-11T21:35:55.856315",
     "exception": false,
     "start_time": "2021-06-11T21:35:55.802018",
     "status": "completed"
    },
    "tags": []
   },
   "outputs": [
    {
     "data": {
      "text/plain": [
       "{'max_depth': 7, 'n_estimators': 50}"
      ]
     },
     "execution_count": 30,
     "metadata": {},
     "output_type": "execute_result"
    }
   ],
   "source": [
    "validated_model.best_params_"
   ]
  },
  {
   "cell_type": "code",
   "execution_count": 31,
   "id": "renewable-worry",
   "metadata": {
    "execution": {
     "iopub.execute_input": "2021-06-11T21:35:55.972023Z",
     "iopub.status.busy": "2021-06-11T21:35:55.970976Z",
     "iopub.status.idle": "2021-06-11T21:35:55.978740Z",
     "shell.execute_reply": "2021-06-11T21:35:55.977856Z"
    },
    "papermill": {
     "duration": 0.073548,
     "end_time": "2021-06-11T21:35:55.978926",
     "exception": false,
     "start_time": "2021-06-11T21:35:55.905378",
     "status": "completed"
    },
    "tags": []
   },
   "outputs": [
    {
     "data": {
      "text/plain": [
       "RandomForestClassifier(max_depth=7, n_estimators=50, random_state=50)"
      ]
     },
     "execution_count": 31,
     "metadata": {},
     "output_type": "execute_result"
    }
   ],
   "source": [
    "validated_model.best_estimator_"
   ]
  },
  {
   "cell_type": "code",
   "execution_count": 32,
   "id": "determined-tennis",
   "metadata": {
    "execution": {
     "iopub.execute_input": "2021-06-11T21:35:56.083410Z",
     "iopub.status.busy": "2021-06-11T21:35:56.082597Z",
     "iopub.status.idle": "2021-06-11T21:35:56.087810Z",
     "shell.execute_reply": "2021-06-11T21:35:56.087173Z"
    },
    "papermill": {
     "duration": 0.056157,
     "end_time": "2021-06-11T21:35:56.087946",
     "exception": false,
     "start_time": "2021-06-11T21:35:56.031789",
     "status": "completed"
    },
    "tags": []
   },
   "outputs": [
    {
     "data": {
      "text/plain": [
       "0.8369136037580145"
      ]
     },
     "execution_count": 32,
     "metadata": {},
     "output_type": "execute_result"
    }
   ],
   "source": [
    "validated_model.best_score_"
   ]
  },
  {
   "cell_type": "code",
   "execution_count": 33,
   "id": "adjustable-japanese",
   "metadata": {
    "execution": {
     "iopub.execute_input": "2021-06-11T21:35:56.187842Z",
     "iopub.status.busy": "2021-06-11T21:35:56.186818Z",
     "iopub.status.idle": "2021-06-11T21:35:56.198737Z",
     "shell.execute_reply": "2021-06-11T21:35:56.198088Z"
    },
    "papermill": {
     "duration": 0.065688,
     "end_time": "2021-06-11T21:35:56.198878",
     "exception": false,
     "start_time": "2021-06-11T21:35:56.133190",
     "status": "completed"
    },
    "tags": []
   },
   "outputs": [],
   "source": [
    "# Model Prediction\n",
    "model_predictions = validated_model.predict(test_X)"
   ]
  },
  {
   "cell_type": "code",
   "execution_count": 34,
   "id": "close-budapest",
   "metadata": {
    "execution": {
     "iopub.execute_input": "2021-06-11T21:35:56.296741Z",
     "iopub.status.busy": "2021-06-11T21:35:56.295750Z",
     "iopub.status.idle": "2021-06-11T21:35:56.304936Z",
     "shell.execute_reply": "2021-06-11T21:35:56.304178Z"
    },
    "papermill": {
     "duration": 0.060605,
     "end_time": "2021-06-11T21:35:56.305113",
     "exception": false,
     "start_time": "2021-06-11T21:35:56.244508",
     "status": "completed"
    },
    "tags": []
   },
   "outputs": [
    {
     "name": "stdout",
     "output_type": "stream",
     "text": [
      "Submission Output File saved Successfully\n"
     ]
    }
   ],
   "source": [
    "submission_output = pd.DataFrame({'PassengerId': testData.PassengerId, 'Survived': model_predictions})\n",
    "submission_output.to_csv('my_final_submission.csv', index=False)\n",
    "print(\"Submission Output File saved Successfully\")"
   ]
  }
 ],
 "metadata": {
  "kernelspec": {
   "display_name": "Python 3",
   "language": "python",
   "name": "python3"
  },
  "language_info": {
   "codemirror_mode": {
    "name": "ipython",
    "version": 3
   },
   "file_extension": ".py",
   "mimetype": "text/x-python",
   "name": "python",
   "nbconvert_exporter": "python",
   "pygments_lexer": "ipython3",
   "version": "3.7.10"
  },
  "papermill": {
   "default_parameters": {},
   "duration": 42.869836,
   "end_time": "2021-06-11T21:35:57.062554",
   "environment_variables": {},
   "exception": null,
   "input_path": "__notebook__.ipynb",
   "output_path": "__notebook__.ipynb",
   "parameters": {},
   "start_time": "2021-06-11T21:35:14.192718",
   "version": "2.3.3"
  }
 },
 "nbformat": 4,
 "nbformat_minor": 5
}
